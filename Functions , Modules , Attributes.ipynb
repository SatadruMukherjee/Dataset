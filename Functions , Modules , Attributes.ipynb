{
  "nbformat": 4,
  "nbformat_minor": 0,
  "metadata": {
    "colab": {
      "name": "Untitled10.ipynb",
      "provenance": []
    },
    "kernelspec": {
      "name": "python3",
      "display_name": "Python 3"
    }
  },
  "cells": [
    {
      "cell_type": "markdown",
      "metadata": {
        "id": "GC3lV7a-zsEc"
      },
      "source": [
        "result = function(arguments) "
      ]
    },
    {
      "cell_type": "markdown",
      "metadata": {
        "id": "eINOhwQCzwLn"
      },
      "source": [
        "str() , float() , int() , pow()"
      ]
    },
    {
      "cell_type": "code",
      "metadata": {
        "colab": {
          "base_uri": "https://localhost:8080/",
          "height": 34
        },
        "id": "zU7u2_2905UC",
        "outputId": "95708f08-a18e-4302-af5c-bfb9f56c154f"
      },
      "source": [
        "x=12.3;\r\n",
        "ms=(str(x));\r\n",
        "ms"
      ],
      "execution_count": 7,
      "outputs": [
        {
          "output_type": "execute_result",
          "data": {
            "application/vnd.google.colaboratory.intrinsic+json": {
              "type": "string"
            },
            "text/plain": [
              "'12.3'"
            ]
          },
          "metadata": {
            "tags": []
          },
          "execution_count": 7
        }
      ]
    },
    {
      "cell_type": "code",
      "metadata": {
        "colab": {
          "base_uri": "https://localhost:8080/"
        },
        "id": "0vnnf94F1Znx",
        "outputId": "a336dca3-d6b5-4e8d-907c-782016e496c9"
      },
      "source": [
        "x=12.3;\r\n",
        "ms=(str(x));\r\n",
        "type(ms)"
      ],
      "execution_count": 8,
      "outputs": [
        {
          "output_type": "execute_result",
          "data": {
            "text/plain": [
              "str"
            ]
          },
          "metadata": {
            "tags": []
          },
          "execution_count": 8
        }
      ]
    },
    {
      "cell_type": "code",
      "metadata": {
        "colab": {
          "base_uri": "https://localhost:8080/"
        },
        "id": "LaJ_SZ9b1NNj",
        "outputId": "fc2de310-1b9c-4c81-8624-e0cae982e151"
      },
      "source": [
        "x=12;\r\n",
        "print(float(x))"
      ],
      "execution_count": 4,
      "outputs": [
        {
          "output_type": "stream",
          "text": [
            "12.0\n"
          ],
          "name": "stdout"
        }
      ]
    },
    {
      "cell_type": "code",
      "metadata": {
        "colab": {
          "base_uri": "https://localhost:8080/"
        },
        "id": "ma0wsJU31RMV",
        "outputId": "673e55cb-e5b5-4ecf-886d-d74dea374d29"
      },
      "source": [
        "x=12.3;\r\n",
        "print(int(x))"
      ],
      "execution_count": 5,
      "outputs": [
        {
          "output_type": "stream",
          "text": [
            "12\n"
          ],
          "name": "stdout"
        }
      ]
    },
    {
      "cell_type": "code",
      "metadata": {
        "colab": {
          "base_uri": "https://localhost:8080/"
        },
        "id": "NRWvthru1Uma",
        "outputId": "a13e4fb5-8e43-478d-e77e-9355a3a5cbdf"
      },
      "source": [
        "2**4"
      ],
      "execution_count": 12,
      "outputs": [
        {
          "output_type": "execute_result",
          "data": {
            "text/plain": [
              "16"
            ]
          },
          "metadata": {
            "tags": []
          },
          "execution_count": 12
        }
      ]
    },
    {
      "cell_type": "markdown",
      "metadata": {
        "id": "VXaWnmCY0CGf"
      },
      "source": [
        " Methods -- Result = object.method(arguments)"
      ]
    },
    {
      "cell_type": "code",
      "metadata": {
        "id": "nnGp8vhyeYuO",
        "colab": {
          "base_uri": "https://localhost:8080/"
        },
        "outputId": "8b26194e-1c63-465b-9449-d2c13532f0d8"
      },
      "source": [
        "a=[1,2,3,4];\r\n",
        "a.append(5);\r\n",
        "print(a)"
      ],
      "execution_count": 15,
      "outputs": [
        {
          "output_type": "stream",
          "text": [
            "[1, 2, 3, 4, 5]\n"
          ],
          "name": "stdout"
        }
      ]
    },
    {
      "cell_type": "markdown",
      "metadata": {
        "id": "CJb-JP_m0exe"
      },
      "source": [
        "Complex numbers "
      ]
    },
    {
      "cell_type": "code",
      "metadata": {
        "colab": {
          "base_uri": "https://localhost:8080/"
        },
        "id": "pyhsHxwx1zhe",
        "outputId": "c7e98195-11ab-4246-9547-901b26d6ddc9"
      },
      "source": [
        "x=1+2j;\r\n",
        "type(x)"
      ],
      "execution_count": 21,
      "outputs": [
        {
          "output_type": "execute_result",
          "data": {
            "text/plain": [
              "complex"
            ]
          },
          "metadata": {
            "tags": []
          },
          "execution_count": 21
        }
      ]
    },
    {
      "cell_type": "code",
      "metadata": {
        "colab": {
          "base_uri": "https://localhost:8080/"
        },
        "id": "OKPLBQCx18gA",
        "outputId": "85967352-e5af-4778-ff18-70e0df4e6b21"
      },
      "source": [
        "x=1+2j;\r\n",
        "y=1-2j;\r\n",
        "x*y  #(1+2j)*(1-2j)=1+2j-2j+4=5"
      ],
      "execution_count": 23,
      "outputs": [
        {
          "output_type": "execute_result",
          "data": {
            "text/plain": [
              "(5+0j)"
            ]
          },
          "metadata": {
            "tags": []
          },
          "execution_count": 23
        }
      ]
    },
    {
      "cell_type": "markdown",
      "metadata": {
        "id": "cPu1qSH80m01"
      },
      "source": [
        "Attribute"
      ]
    },
    {
      "cell_type": "code",
      "metadata": {
        "id": "RK5k23Qh0fKN"
      },
      "source": [
        "x=1+2j"
      ],
      "execution_count": 24,
      "outputs": []
    },
    {
      "cell_type": "code",
      "metadata": {
        "colab": {
          "base_uri": "https://localhost:8080/"
        },
        "id": "XDe4z14P2PRi",
        "outputId": "f7af2c82-c4cb-4d31-c603-f4a6f53c072e"
      },
      "source": [
        "x.real"
      ],
      "execution_count": 25,
      "outputs": [
        {
          "output_type": "execute_result",
          "data": {
            "text/plain": [
              "1.0"
            ]
          },
          "metadata": {
            "tags": []
          },
          "execution_count": 25
        }
      ]
    },
    {
      "cell_type": "code",
      "metadata": {
        "colab": {
          "base_uri": "https://localhost:8080/"
        },
        "id": "w-2DcSmb2Qm9",
        "outputId": "45750f33-ed49-41eb-b685-03abb96fefb6"
      },
      "source": [
        "x.imag"
      ],
      "execution_count": 26,
      "outputs": [
        {
          "output_type": "execute_result",
          "data": {
            "text/plain": [
              "2.0"
            ]
          },
          "metadata": {
            "tags": []
          },
          "execution_count": 26
        }
      ]
    },
    {
      "cell_type": "code",
      "metadata": {
        "colab": {
          "base_uri": "https://localhost:8080/"
        },
        "id": "6c3RAyoc2kJB",
        "outputId": "64b7ea97-d816-4bb2-e4b9-431264611d87"
      },
      "source": [
        "abs(x)"
      ],
      "execution_count": 27,
      "outputs": [
        {
          "output_type": "execute_result",
          "data": {
            "text/plain": [
              "2.23606797749979"
            ]
          },
          "metadata": {
            "tags": []
          },
          "execution_count": 27
        }
      ]
    }
  ]
}